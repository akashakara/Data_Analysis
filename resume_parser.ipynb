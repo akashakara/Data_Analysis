{
  "nbformat": 4,
  "nbformat_minor": 0,
  "metadata": {
    "colab": {
      "name": "resume parser.ipynb",
      "provenance": [],
      "authorship_tag": "ABX9TyPqH+iRkiUqEVNTqhaeDfZ8",
      "include_colab_link": true
    },
    "kernelspec": {
      "name": "python3",
      "display_name": "Python 3"
    },
    "language_info": {
      "name": "python"
    }
  },
  "cells": [
    {
      "cell_type": "markdown",
      "metadata": {
        "id": "view-in-github",
        "colab_type": "text"
      },
      "source": [
        "<a href=\"https://colab.research.google.com/github/akashakara/Data_Analysis/blob/master/resume_parser.ipynb\" target=\"_parent\"><img src=\"https://colab.research.google.com/assets/colab-badge.svg\" alt=\"Open In Colab\"/></a>"
      ]
    },
    {
      "cell_type": "code",
      "execution_count": 1,
      "metadata": {
        "colab": {
          "base_uri": "https://localhost:8080/"
        },
        "id": "lD0Scn2sljcS",
        "outputId": "c7eaaf78-0295-4d99-ab4a-64e0f8ee1b4f"
      },
      "outputs": [
        {
          "output_type": "stream",
          "name": "stdout",
          "text": [
            "Collecting tika\n",
            "  Downloading tika-1.24.tar.gz (28 kB)\n",
            "Requirement already satisfied: setuptools in /usr/local/lib/python3.7/dist-packages (from tika) (57.4.0)\n",
            "Requirement already satisfied: requests in /usr/local/lib/python3.7/dist-packages (from tika) (2.23.0)\n",
            "Requirement already satisfied: urllib3!=1.25.0,!=1.25.1,<1.26,>=1.21.1 in /usr/local/lib/python3.7/dist-packages (from requests->tika) (1.24.3)\n",
            "Requirement already satisfied: idna<3,>=2.5 in /usr/local/lib/python3.7/dist-packages (from requests->tika) (2.10)\n",
            "Requirement already satisfied: chardet<4,>=3.0.2 in /usr/local/lib/python3.7/dist-packages (from requests->tika) (3.0.4)\n",
            "Requirement already satisfied: certifi>=2017.4.17 in /usr/local/lib/python3.7/dist-packages (from requests->tika) (2021.10.8)\n",
            "Building wheels for collected packages: tika\n",
            "  Building wheel for tika (setup.py) ... \u001b[?25l\u001b[?25hdone\n",
            "  Created wheel for tika: filename=tika-1.24-py3-none-any.whl size=32893 sha256=228179a1a69a6c8e67379c5c1ff6911254a28f6f660033f0c100f84db520b0a8\n",
            "  Stored in directory: /root/.cache/pip/wheels/ec/2b/38/58ff05467a742e32f67f5d0de048fa046e764e2fbb25ac93f3\n",
            "Successfully built tika\n",
            "Installing collected packages: tika\n",
            "Successfully installed tika-1.24\n"
          ]
        }
      ],
      "source": [
        "!pip install tika\n"
      ]
    },
    {
      "cell_type": "code",
      "source": [
        ""
      ],
      "metadata": {
        "id": "Ux_LHJzdqoLr"
      },
      "execution_count": null,
      "outputs": []
    },
    {
      "cell_type": "code",
      "source": [
        "from tika import parser\n",
        "file = r'/content/Akash_singh .pdf'\n",
        "file_data = parser.from_file(file)\n",
        "text = file_data['content']\n",
        "print(text)"
      ],
      "metadata": {
        "colab": {
          "base_uri": "https://localhost:8080/"
        },
        "id": "jkyrHiuknVf2",
        "outputId": "ac253c08-290b-43e9-d686-9522ac4ce62d"
      },
      "execution_count": 2,
      "outputs": [
        {
          "output_type": "stream",
          "name": "stderr",
          "text": [
            "2022-01-16 06:40:50,822 [MainThread  ] [INFO ]  Retrieving http://search.maven.org/remotecontent?filepath=org/apache/tika/tika-server/1.24/tika-server-1.24.jar to /tmp/tika-server.jar.\n",
            "2022-01-16 06:40:51,185 [MainThread  ] [INFO ]  Retrieving http://search.maven.org/remotecontent?filepath=org/apache/tika/tika-server/1.24/tika-server-1.24.jar.md5 to /tmp/tika-server.jar.md5.\n",
            "2022-01-16 06:40:51,429 [MainThread  ] [WARNI]  Failed to see startup log message; retrying...\n"
          ]
        },
        {
          "output_type": "stream",
          "name": "stdout",
          "text": [
            "\n",
            "\n",
            "\n",
            "\n",
            "\n",
            "\n",
            "\n",
            "\n",
            "\n",
            "\n",
            "\n",
            "\n",
            "\n",
            "\n",
            "\n",
            "\n",
            "\n",
            "\n",
            "\n",
            "\n",
            "\n",
            "\n",
            "\n",
            "\n",
            "\n",
            "\n",
            "\n",
            "\n",
            "\n",
            "\n",
            "\n",
            "\n",
            "\n",
            "\n",
            "\n",
            "\n",
            "\n",
            "\n",
            "\n",
            "Akash singh 2\n",
            "\n",
            "\n",
            "                       AKASH KUMAR SINGH\n",
            "Kolkata, WB\n",
            "\n",
            "(+91)7903872483  | akash.akara@gmail.com | www.github.com/akashakara  | linkedin.com/in/akashxxvi\n",
            "\n",
            "Technical Skills \n",
            "Web Development: HTML,CSS,Js,React,BootStrap,Node,JQuery\n",
            "App Development: React Native,Typescript,Redux\n",
            "Data analysis Tools: Pandas,Numpy,Tableau,Alteryx,Excel \n",
            "Automation Tools: Jenkins,Selenium,UIpath\n",
            "Design Tools: Figma, AdobeXD,Miro \n",
            "IDE: VS code,Android Studio,juPyter,Vim. \n",
            "Languages: Python,C,C++,PHP,Kotlin \n",
            "Operating Systems:Linux,MacOs,Ubantu,Windows\n",
            "Version Control Tools: GIT. \n",
            "Cloud Tools: AWS,MongoDB,Firebase \n",
            "\n",
            "Education \n",
            "Maulana Abul Kalam Azad University Of Technology, Kolkata          \n",
            "\n",
            "            B.Tech, Computer Science           \n",
            "Relevant Coursework: Calculus, Data Structures and Algorithms, \n",
            "\n",
            "Statistical Computing\n",
            "\n",
            "Employment History\n",
            "\n",
            "CuriousJr\n",
            "Software Development Intern               \n",
            "\n",
            "May 2021 – August 2021\n",
            "Gurugram,Haryana\n",
            "\n",
            "• Made Blockly Apps for E-learning\n",
            "• Published app on CuriousJR App\n",
            "\n",
            "mailto:akash.akara@gmail.com?subject=\n",
            "\n",
            "\n",
            "The Mentor\n",
            "Coding and Development Intern, C&D Team    \n",
            "\n",
            "           March 2021 – May 2021\n",
            "Bengaluru, Karnataka\n",
            "\n",
            "• Full Stack React js App\n",
            "• Integration of CMS to manage content of the site\n",
            "• Manage database for all the users \n",
            "\n",
            "     \n",
            "Projects\n",
            "\n",
            "IPL Win/Loss Forecaster\n",
            "• A Python based IPL forecaster which tells which team will have \n",
            "\n",
            "maximum chance to win\n",
            "E-Commerce Price Automation\n",
            "\n",
            "• Finding best discount on the e-commerce websites with python\n",
            "Clone Apps with React Native\n",
            "\n",
            "• FaceBook Messenger,YouTube,Tinder And LinkedIN\n",
            "FaceMask Detector\n",
            "\n",
            "• Keras based facemask detector\n",
            "\n",
            "Online Exam Series\n",
            "• Full stack test series with auth, courses, online exam, result, cms, etc.\n",
            "\n",
            "                                                       DECLARATION: \n",
            "\n",
            "● I hereby declare that the information furnished above is true to the best of my knowledge. \n",
            "Place: Kolkata \n",
            "\n",
            "Date:                                                                                                                     (Akash Kumar Singh) \n",
            "\n",
            "\n",
            "\n"
          ]
        }
      ]
    },
    {
      "cell_type": "code",
      "source": [
        "parsed_content = {}"
      ],
      "metadata": {
        "id": "Ud3O59CMnsg0"
      },
      "execution_count": 3,
      "outputs": []
    },
    {
      "cell_type": "code",
      "source": [
        "#E-MAIL\n",
        "import re\n",
        "def get_email_addresses(string):\n",
        "    r = re.compile(r'[\\w\\.-]+@[\\w\\.-]+')\n",
        "    return r.findall(string)\n",
        "\n",
        "email = get_email_addresses(text)\n",
        "print(email)\n",
        "parsed_content['E-mail'] = email"
      ],
      "metadata": {
        "colab": {
          "base_uri": "https://localhost:8080/"
        },
        "id": "kkjPHP72nxBz",
        "outputId": "e06c40e0-2ed8-4c1c-e8f3-70aa241c673a"
      },
      "execution_count": 4,
      "outputs": [
        {
          "output_type": "stream",
          "name": "stdout",
          "text": [
            "['akash.akara@gmail.com', 'akash.akara@gmail.com']\n"
          ]
        }
      ]
    },
    {
      "cell_type": "code",
      "source": [
        "#PHONE NUMBER\n",
        "import re\n",
        "def get_phone_numbers(string):\n",
        "    r = re.compile(r'(\\d{3}[-\\.\\s]??\\d{3}[-\\.\\s]??\\d{4}|\\(\\d{3}\\)\\s*\\d{3}[-\\.\\s]??\\d{4}|\\d{3}[-\\.\\s]??\\d{4})')\n",
        "    phone_numbers = r.findall(string)\n",
        "    return [re.sub(r'\\D', '', num) for num in phone_numbers]\n",
        "\n",
        "phone_number= get_phone_numbers(text)\n",
        "if len(phone_number) <= 10:\n",
        "    print(phone_number)\n",
        "    parsed_content['Phone number'] = phone_number"
      ],
      "metadata": {
        "colab": {
          "base_uri": "https://localhost:8080/"
        },
        "id": "Cvk6VbJEn2AP",
        "outputId": "2796fa88-f58b-4a81-add1-d6a824094784"
      },
      "execution_count": 5,
      "outputs": [
        {
          "output_type": "stream",
          "name": "stdout",
          "text": [
            "['7903872483']\n"
          ]
        }
      ]
    },
    {
      "cell_type": "code",
      "source": [
        "Keywords = [\"education\",\n",
        "            \"summary\",\n",
        "            \"accomplishments\",\n",
        "            \"executive profile\",\n",
        "            \"professional profile\",\n",
        "            \"personal profile\",\n",
        "            \"work background\",\n",
        "            \"academic profile\",\n",
        "            \"other activities\",\n",
        "            \"qualifications\",\n",
        "            \"experience\",\n",
        "            \"interests\",\n",
        "            \"skills\",\n",
        "            \"achievements\",\n",
        "            \"publications\",\n",
        "            \"publication\",\n",
        "            \"certifications\",\n",
        "            \"workshops\",\n",
        "            \"projects\",\n",
        "            \"internships\",\n",
        "            \"trainings\",\n",
        "            \"hobbies\",\n",
        "            \"overview\",\n",
        "            \"objective\",\n",
        "            \"position of responsibility\",\n",
        "            \"jobs\"\n",
        "           ]"
      ],
      "metadata": {
        "id": "xNg98nH4oCrM"
      },
      "execution_count": 6,
      "outputs": []
    },
    {
      "cell_type": "code",
      "source": [
        "text = text.replace(\"\\n\",\" \")\n",
        "text = text.replace(\"[^a-zA-Z0-9]\", \" \");  \n",
        "re.sub('\\W+','', text)\n",
        "text = text.lower()\n",
        "print(text)"
      ],
      "metadata": {
        "colab": {
          "base_uri": "https://localhost:8080/"
        },
        "id": "KDDBOZnsoJtG",
        "outputId": "6affa0d9-139d-4e18-f7ac-8c3d44b759b9"
      },
      "execution_count": 7,
      "outputs": [
        {
          "output_type": "stream",
          "name": "stdout",
          "text": [
            "                                       akash singh 2                          akash kumar singh kolkata, wb  (+91)7903872483  | akash.akara@gmail.com | www.github.com/akashakara  | linkedin.com/in/akashxxvi  technical skills  web development: html,css,js,react,bootstrap,node,jquery app development: react native,typescript,redux data analysis tools: pandas,numpy,tableau,alteryx,excel  automation tools: jenkins,selenium,uipath design tools: figma, adobexd,miro  ide: vs code,android studio,jupyter,vim.  languages: python,c,c++,php,kotlin  operating systems:linux,macos,ubantu,windows version control tools: git.  cloud tools: aws,mongodb,firebase   education  maulana abul kalam azad university of technology, kolkata                        b.tech, computer science            relevant coursework: calculus, data structures and algorithms,   statistical computing  employment history  curiousjr software development intern                 may 2021 – august 2021 gurugram,haryana  • made blockly apps for e-learning • published app on curiousjr app  mailto:akash.akara@gmail.com?subject=   the mentor coding and development intern, c&d team                 march 2021 – may 2021 bengaluru, karnataka  • full stack react js app • integration of cms to manage content of the site • manage database for all the users         projects  ipl win/loss forecaster • a python based ipl forecaster which tells which team will have   maximum chance to win e-commerce price automation  • finding best discount on the e-commerce websites with python clone apps with react native  • facebook messenger,youtube,tinder and linkedin facemask detector  • keras based facemask detector  online exam series • full stack test series with auth, courses, online exam, result, cms, etc.                                                         declaration:   ● i hereby declare that the information furnished above is true to the best of my knowledge.  place: kolkata   date:                                                                                                                     (akash kumar singh)    \n"
          ]
        }
      ]
    },
    {
      "cell_type": "code",
      "source": [
        "content = {}\n",
        "indices = []\n",
        "keys = []\n",
        "for key in Keywords:\n",
        "    try:\n",
        "        content[key] = text[text.index(key) + len(key):]\n",
        "        indices.append(text.index(key))\n",
        "        keys.append(key)\n",
        "    except:\n",
        "        pass\n",
        "    "
      ],
      "metadata": {
        "id": "g8C5eWYwoOaX"
      },
      "execution_count": 8,
      "outputs": []
    },
    {
      "cell_type": "code",
      "source": [
        "#Sorting the indices\n",
        "zipped_lists = zip(indices, keys)\n",
        "sorted_pairs = sorted(zipped_lists)\n",
        "sorted_pairs\n",
        "\n",
        "tuples = zip(*sorted_pairs)\n",
        "indices, keys = [ list(tuple) for tuple in  tuples]\n",
        "keys"
      ],
      "metadata": {
        "colab": {
          "base_uri": "https://localhost:8080/"
        },
        "id": "RsGXIGHGqpy3",
        "outputId": "fa22f395-05ed-4ed7-e488-e75d4b31392b"
      },
      "execution_count": 9,
      "outputs": [
        {
          "output_type": "execute_result",
          "data": {
            "text/plain": [
              "['skills', 'education', 'projects']"
            ]
          },
          "metadata": {},
          "execution_count": 9
        }
      ]
    },
    {
      "cell_type": "code",
      "source": [
        "#Keeping the required content and removing the redundant part\n",
        "content = []\n",
        "for idx in range(len(indices)):\n",
        "    if idx != len(indices)-1:\n",
        "        content.append(text[indices[idx]: indices[idx+1]])\n",
        "    else:\n",
        "        content.append(text[indices[idx]: ])"
      ],
      "metadata": {
        "id": "wVE72blfqxDZ"
      },
      "execution_count": 10,
      "outputs": []
    },
    {
      "cell_type": "code",
      "source": [
        "for i in range(len(indices)):\n",
        "    parsed_content[keys[i]] = content[i]   "
      ],
      "metadata": {
        "id": "J15lD8C0q0yI"
      },
      "execution_count": 11,
      "outputs": []
    },
    {
      "cell_type": "code",
      "source": [
        "#Displaying the parsed content\n",
        "parsed_content"
      ],
      "metadata": {
        "colab": {
          "base_uri": "https://localhost:8080/"
        },
        "id": "yGYGOGmHq4VH",
        "outputId": "59f51305-eaca-48c5-aa10-ef4bf447f634"
      },
      "execution_count": 12,
      "outputs": [
        {
          "output_type": "execute_result",
          "data": {
            "text/plain": [
              "{'E-mail': ['akash.akara@gmail.com', 'akash.akara@gmail.com'],\n",
              " 'Phone number': ['7903872483'],\n",
              " 'education': 'education  maulana abul kalam azad university of technology, kolkata                        b.tech, computer science            relevant coursework: calculus, data structures and algorithms,   statistical computing  employment history  curiousjr software development intern                 may 2021 – august 2021 gurugram,haryana  • made blockly apps for e-learning • published app on curiousjr app  mailto:akash.akara@gmail.com?subject=   the mentor coding and development intern, c&d team                 march 2021 – may 2021 bengaluru, karnataka  • full stack react js app • integration of cms to manage content of the site • manage database for all the users         ',\n",
              " 'projects': 'projects  ipl win/loss forecaster • a python based ipl forecaster which tells which team will have   maximum chance to win e-commerce price automation  • finding best discount on the e-commerce websites with python clone apps with react native  • facebook messenger,youtube,tinder and linkedin facemask detector  • keras based facemask detector  online exam series • full stack test series with auth, courses, online exam, result, cms, etc.                                                         declaration:   ● i hereby declare that the information furnished above is true to the best of my knowledge.  place: kolkata   date:                                                                                                                     (akash kumar singh)    ',\n",
              " 'skills': 'skills  web development: html,css,js,react,bootstrap,node,jquery app development: react native,typescript,redux data analysis tools: pandas,numpy,tableau,alteryx,excel  automation tools: jenkins,selenium,uipath design tools: figma, adobexd,miro  ide: vs code,android studio,jupyter,vim.  languages: python,c,c++,php,kotlin  operating systems:linux,macos,ubantu,windows version control tools: git.  cloud tools: aws,mongodb,firebase   '}"
            ]
          },
          "metadata": {},
          "execution_count": 12
        }
      ]
    },
    {
      "cell_type": "code",
      "source": [
        "import json\n",
        "with open(\"Parsed_Resume.json\", \"w\") as outfile:\n",
        "    json.dump(parsed_content, outfile)"
      ],
      "metadata": {
        "id": "T9Cbu2G6rE21"
      },
      "execution_count": 13,
      "outputs": []
    },
    {
      "cell_type": "code",
      "source": [
        "a_file = open(\"Parsed_Resume.json\", \"r\")\n",
        "a_json = json.load(a_file)\n",
        "pretty_json = json.dumps(a_json, indent=4)\n",
        "a_file.close()\n",
        "print(pretty_json)"
      ],
      "metadata": {
        "colab": {
          "base_uri": "https://localhost:8080/"
        },
        "id": "UcYq4rQIrITI",
        "outputId": "6135eae9-6e09-4e82-dc56-237c759a7440"
      },
      "execution_count": 14,
      "outputs": [
        {
          "output_type": "stream",
          "name": "stdout",
          "text": [
            "{\n",
            "    \"E-mail\": [\n",
            "        \"akash.akara@gmail.com\",\n",
            "        \"akash.akara@gmail.com\"\n",
            "    ],\n",
            "    \"Phone number\": [\n",
            "        \"7903872483\"\n",
            "    ],\n",
            "    \"skills\": \"skills  web development: html,css,js,react,bootstrap,node,jquery app development: react native,typescript,redux data analysis tools: pandas,numpy,tableau,alteryx,excel  automation tools: jenkins,selenium,uipath design tools: figma, adobexd,miro  ide: vs code,android studio,jupyter,vim.  languages: python,c,c++,php,kotlin  operating systems:linux,macos,ubantu,windows version control tools: git.  cloud tools: aws,mongodb,firebase   \",\n",
            "    \"education\": \"education  maulana abul kalam azad university of technology, kolkata                        b.tech, computer science            relevant coursework: calculus, data structures and algorithms,   statistical computing  employment history  curiousjr software development intern                 may 2021 \\u2013 august 2021 gurugram,haryana  \\u2022 made blockly apps for e-learning \\u2022 published app on curiousjr app  mailto:akash.akara@gmail.com?subject=   the mentor coding and development intern, c&d team                 march 2021 \\u2013 may 2021 bengaluru, karnataka  \\u2022 full stack react js app \\u2022 integration of cms to manage content of the site \\u2022 manage database for all the users         \",\n",
            "    \"projects\": \"projects  ipl win/loss forecaster \\u2022 a python based ipl forecaster which tells which team will have   maximum chance to win e-commerce price automation  \\u2022 finding best discount on the e-commerce websites with python clone apps with react native  \\u2022 facebook messenger,youtube,tinder and linkedin facemask detector  \\u2022 keras based facemask detector  online exam series \\u2022 full stack test series with auth, courses, online exam, result, cms, etc.                                                         declaration:   \\u25cf i hereby declare that the information furnished above is true to the best of my knowledge.  place: kolkata   date:                                                                                                                     (akash kumar singh)    \"\n",
            "}\n"
          ]
        }
      ]
    }
  ]
}